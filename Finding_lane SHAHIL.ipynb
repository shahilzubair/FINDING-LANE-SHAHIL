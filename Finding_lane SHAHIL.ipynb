{
 "cells": [
  {
   "cell_type": "code",
   "execution_count": 7,
   "id": "a7b96f91",
   "metadata": {},
   "outputs": [
    {
     "data": {
      "text/plain": [
       "-1"
      ]
     },
     "execution_count": 7,
     "metadata": {},
     "output_type": "execute_result"
    }
   ],
   "source": [
    "import cv2\n",
    "import numpy as np\n",
    "def hough_transform(img,lines):\n",
    "    img = np.copy(img)\n",
    "    blank_image = np.zeros((img.shape[0],img.shape[1],3),dtype=np.uint8)\n",
    "    for line in lines:\n",
    "        for x1,y1,x2,y2 in line:\n",
    "            cv2.line(blank_image,(x1,y1),(x2,y2),(255,0,255),thickness=10)\n",
    "    img = cv2.addWeighted(img,0.8,blank_image,1,0.0)\n",
    "    return img\n",
    "\n",
    "video = cv2.VideoCapture(r\"solidWhiteRight..mp4\")\n",
    "while True:\n",
    "    ret,frame = video.read()\n",
    "    if frame is None:\n",
    "        break\n",
    "    img_gray = cv2.cvtColor(frame,cv2.COLOR_RGB2GRAY)\n",
    "    canny = cv2.Canny(img_gray,100,150)\n",
    "    height = canny.shape[0]\n",
    "    width = canny.shape[1]\n",
    "    vertices = [(0,height),(5*width/10,6*height/10),(width,height)]\n",
    "    mask = np.zeros_like(canny)\n",
    "    mask = cv2.fillPoly(mask,(np.array([vertices],np.int32)),255) \n",
    "    masked_image=cv2.bitwise_and(canny,mask)\n",
    "    lines = cv2.HoughLinesP(masked_image,rho=6,threshold=60,theta=np.pi/180,minLineLength=50,maxLineGap=150,lines=np.array([]))\n",
    "    img = hough_transform(frame,lines)\n",
    "    cv2.imshow('Lane detection',img)\n",
    "    if cv2.waitKey(1) & 0xFF == 27:\n",
    "        break\n",
    "        \n",
    "cv2.waitKey()\n"
   ]
  },
  {
   "cell_type": "code",
   "execution_count": null,
   "id": "2ea2d7fc",
   "metadata": {},
   "outputs": [],
   "source": []
  }
 ],
 "metadata": {
  "kernelspec": {
   "display_name": "Python 3 (ipykernel)",
   "language": "python",
   "name": "python3"
  },
  "language_info": {
   "codemirror_mode": {
    "name": "ipython",
    "version": 3
   },
   "file_extension": ".py",
   "mimetype": "text/x-python",
   "name": "python",
   "nbconvert_exporter": "python",
   "pygments_lexer": "ipython3",
   "version": "3.9.7"
  }
 },
 "nbformat": 4,
 "nbformat_minor": 5
}
